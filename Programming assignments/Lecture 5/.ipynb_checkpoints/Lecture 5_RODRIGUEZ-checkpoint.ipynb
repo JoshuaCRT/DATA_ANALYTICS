{
 "cells": [
  {
   "cell_type": "markdown",
   "id": "4fa95474-f2fd-406c-b908-f1d804b48fd7",
   "metadata": {},
   "source": [
    "# LineRegression\n",
    "#### by Joshua Rodriguez"
   ]
  },
  {
   "cell_type": "markdown",
   "id": "0a9c3145-7dde-4fb3-b1f2-1dcaaa8bba99",
   "metadata": {},
   "source": [
    "##### 1. Choose a data from https://archive.ics.uci.edu\n",
    "##### 2. Perform regression analysis on your chosen dataset"
   ]
  },
  {
   "cell_type": "code",
   "execution_count": 13,
   "id": "8f094c85-3124-4906-a3d7-3e0c515d0985",
   "metadata": {},
   "outputs": [],
   "source": [
    "from ucimlrepo import fetch_ucirepo\n",
    "import pandas as pd\n",
    "from sklearn.linear_model import LinearRegression\n",
    "from sklearn.model_selection import train_test_split\n",
    "from sklearn.metrics import mean_squared_error, r2_score"
   ]
  },
  {
   "cell_type": "code",
   "execution_count": null,
   "id": "52f73e90-40c8-4924-85d7-c14f6221ef85",
   "metadata": {},
   "outputs": [],
   "source": [
    "\n",
    "# Fetch dataset\n",
    "computer_hardware = fetch_ucirepo(id=29)\n",
    "\n",
    "# Extract features and target from the dataset\n",
    "X = pd.DataFrame(computer_hardware.data.features, columns=computer_hardware.variables['features'])\n",
    "y = pd.Series(computer_hardware.data.targets, name=\"PRP\")\n",
    "\n",
    "# Check the shapes of X and y to ensure they are correctly loaded\n",
    "print(X.shape)\n",
    "print(y.shape)\n",
    "\n",
    "# Split the data into training and testing sets\n",
    "X_train, X_test, y_train, y_test = train_test_split(X, y, test_size=0.2, random_state=42)\n",
    "\n",
    "# Initialize the Linear Regression model\n",
    "model = LinearRegression()\n",
    "\n",
    "# Train the model\n",
    "model.fit(X_train, y_train)\n",
    "\n",
    "# Make predictions\n",
    "y_pred = model.predict(X_test)\n",
    "\n",
    "# Evaluate the model\n",
    "mse = mean_squared_error(y_test, y_pred)\n",
    "r2 = r2_score(y_test, y_pred)\n",
    "\n",
    "print(f\"Mean Squared Error: {mse}\")\n",
    "print(f\"R^2 Score: {r2}\")\n",
    "\n",
    "# Display coefficients\n",
    "coefficients = pd.DataFrame(model.coef_, X.columns, columns=['Coefficient'])\n",
    "print(coefficients)\n"
   ]
  },
  {
   "cell_type": "code",
   "execution_count": null,
   "id": "a63eee90-0c29-4f47-a5a4-80fad3c3d967",
   "metadata": {},
   "outputs": [],
   "source": []
  }
 ],
 "metadata": {
  "kernelspec": {
   "display_name": "Python 3 (ipykernel)",
   "language": "python",
   "name": "python3"
  },
  "language_info": {
   "codemirror_mode": {
    "name": "ipython",
    "version": 3
   },
   "file_extension": ".py",
   "mimetype": "text/x-python",
   "name": "python",
   "nbconvert_exporter": "python",
   "pygments_lexer": "ipython3",
   "version": "3.11.4"
  }
 },
 "nbformat": 4,
 "nbformat_minor": 5
}
