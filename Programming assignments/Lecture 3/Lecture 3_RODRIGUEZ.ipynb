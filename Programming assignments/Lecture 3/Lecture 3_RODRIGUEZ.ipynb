{
 "cells": [
  {
   "cell_type": "markdown",
   "id": "0f829061-dab7-42ad-806a-23be7ba872fb",
   "metadata": {},
   "source": [
    "## ASSIGNMENT 3\n",
    "####  by Joshua Rodriguez\n",
    "#### Instructions:\n",
    "\n",
    "1. Read the article: https://www.sciencedirect.com/science/article/abs/pii/S0031320322001753\n",
    "2. Replicate the study using the same dataset."
   ]
  },
  {
   "cell_type": "code",
   "execution_count": 1,
   "id": "dd1ebdc2-3f56-44bb-bca8-53cfbeeb0ab5",
   "metadata": {},
   "outputs": [],
   "source": [
    "from ucimlrepo import fetch_ucirepo \n",
    "import pandas as pd\n",
    "import numpy as np\n",
    "from sklearn.metrics.cluster import adjusted_rand_score, normalized_mutual_info_score, fowlkes_mallows_score\n",
    "from sklearn.cluster import KMeans\n",
    "from sklearn.manifold import SpectralEmbedding\n",
    "from sklearn.preprocessing import OneHotEncoder\n",
    "import networkx as nx\n",
    "import itertools\n",
    "import warnings\n",
    "from sklearn.cluster import AgglomerativeClustering\n",
    "from kmodes.kmodes import KModes\n",
    "from sklearn.preprocessing import LabelEncoder "
   ]
  },
  {
   "cell_type": "code",
   "execution_count": 2,
   "id": "4e791d41-074e-4850-826e-31dab719b667",
   "metadata": {},
   "outputs": [],
   "source": [
    "heart_disease = fetch_ucirepo(id=45) \n",
    "breast_cancer = fetch_ucirepo(id=15)"
   ]
  },
  {
   "cell_type": "code",
   "execution_count": 3,
   "id": "cf31df98-9930-442d-83bd-4cbc435c392b",
   "metadata": {},
   "outputs": [],
   "source": [
    "X = heart_disease.data.features\n",
    "y = heart_disease.data.targets \n",
    "heart_disease_df = pd.merge(X, y, left_index=True, right_index=True)\n",
    "heart_disease_df = heart_disease_df.dropna()\n",
    "\n",
    "X = breast_cancer.data.features\n",
    "y = breast_cancer.data.targets \n",
    "breast_cancer_df = pd.merge(X, y, left_index=True, right_index=True)\n",
    "breast_cancer_df = breast_cancer_df.dropna()"
   ]
  },
  {
   "cell_type": "code",
   "execution_count": 18,
   "id": "e15feb7e-7406-435a-855a-e2fb207f4e3d",
   "metadata": {},
   "outputs": [],
   "source": [
    "def jaccard_coefficient(set1, set2):\n",
    "    intersection = len(set1.intersection(set2))\n",
    "    union = len(set1.union(set2))\n",
    "    return intersection / union\n",
    "\n",
    "def ochiai_coefficient(set1, set2):\n",
    "    intersection = len(set1.intersection(set2))\n",
    "    denominator = np.sqrt(len(set1) * len(set2))\n",
    "    return intersection / denominator\n",
    "\n",
    "def overlap_coefficient(set1, set2):\n",
    "    intersection = len(set1.intersection(set2))\n",
    "    min_length = min(len(set1), len(set2))\n",
    "    return intersection / min_length\n",
    "\n",
    "def dice_coefficient(set1, set2):\n",
    "    intersection = len(set1.intersection(set2))\n",
    "    denominator = len(set1) + len(set2)\n",
    "    return 2 * intersection / denominator\n",
    "\n",
    "def graph_based_representation(data):\n",
    "    num_samples, num_features = data.shape\n",
    "    similarity_matrix = np.zeros((num_features, num_features))\n",
    "    for i, j in itertools.combinations(range(num_features), 2):\n",
    "        similarity_matrix[i, j] = jaccard_coefficient(set(data[:, i]), set(data[:, j]))\n",
    "        similarity_matrix[j, i] = similarity_matrix[i, j]\n",
    "    G = nx.from_numpy_array(similarity_matrix)\n",
    "    embedding = SpectralEmbedding(n_components=p)\n",
    "    representation_matrix = embedding.fit_transform(similarity_matrix)\n",
    "    return representation_matrix\n",
    "\n",
    "def joint_operation(data, representation_matrix):\n",
    "    return np.dot(data, representation_matrix)\n",
    "\n",
    "def mean_operation(data, representation_matrix):\n",
    "    return np.mean(np.dot(data, representation_matrix), axis=1)\n",
    "\n",
    "def perform_clustering(data, k):\n",
    "    kmeans = KMeans(n_clusters=k)\n",
    "    return kmeans.fit_predict(data)"
   ]
  },
  {
   "cell_type": "markdown",
   "id": "c0765c56-57b7-4a84-b5e0-35fad2ce627d",
   "metadata": {},
   "source": [
    "3. Read articles about Adjusted Rand Index, Normalized Mutual Information, and Folkes-Mallows Index (only use paper published in IEEE, sciencedirect, springerlink, Taylor Francis).\n",
    "4. Aside from the Adjusted Rand Index (ARI), and Normalized Mutual Information (NMI), use the Folkes-Mallows Index (FMI), and compare the result of each performance index."
   ]
  },
  {
   "cell_type": "code",
   "execution_count": 30,
   "id": "b9acd342-58c5-4c6d-98ba-4a045182db40",
   "metadata": {},
   "outputs": [
    {
     "name": "stdout",
     "output_type": "stream",
     "text": [
      "            Dataset       ARI       NMI       FMI\n",
      "0  heart_disease_df  0.013511  0.026229  0.420845\n",
      "1  breast_cancer_df  0.553329  0.547089  0.765220\n"
     ]
    }
   ],
   "source": [
    "# Define parameters\n",
    "p = 10\n",
    "q = 10 \n",
    "k = 3\n",
    "\n",
    "results = []\n",
    "\n",
    "# Data preprocessing and clustering\n",
    "datasets = [\"heart_disease_df\",\"breast_cancer_df\"]\n",
    "for dataset_name in datasets:\n",
    "    dataset = globals()[dataset_name]\n",
    "    with warnings.catch_warnings():\n",
    "        warnings.filterwarnings(\"ignore\") \n",
    "        try:\n",
    "            X = dataset\n",
    "            enc = OneHotEncoder()\n",
    "            X_encoded = enc.fit_transform(X)\n",
    "            representation_matrix = graph_based_representation(X_encoded.toarray())\n",
    "            integrated_data = joint_operation(X_encoded.toarray(), representation_matrix)\n",
    "            labels = perform_clustering(integrated_data, k)\n",
    "\n",
    "            true_labels = dataset.iloc[:, -1] \n",
    "            ARI = adjusted_rand_score(true_labels, labels)\n",
    "            NMI = normalized_mutual_info_score(true_labels, labels)\n",
    "            FMI = fowlkes_mallows_score(true_labels, labels)\n",
    "            results.append([dataset_name, ARI, NMI, FMI])\n",
    "        except UserWarning as e:\n",
    "            print(f\"Warning: {e}\")\n",
    "\n",
    "results_df = pd.DataFrame(results, columns=[\"Dataset\", \"ARI\", \"NMI\", \"FMI\"])\n",
    "print(results_df)\n"
   ]
  },
  {
   "cell_type": "markdown",
   "id": "b52c539d-7ff5-4e05-9265-3789114817fa",
   "metadata": {},
   "source": [
    "3. Read articles about Adjusted Rand Index, Normalized Mutual Information, and Folkes-Mallows Index (only use paper published in IEEE, sciencedirect, springerlink, Taylor Francis).\n",
    "4. Aside from the Adjusted Rand Index (ARI), and Normalized Mutual Information (NMI), use the Folkes-Mallows Index (FMI), and compare the result of each performance index."
   ]
  },
  {
   "cell_type": "markdown",
   "id": "e90a04e6-0340-4482-bed4-3e9a19bebb33",
   "metadata": {},
   "source": [
    "The Adjusted Rand Index (ARI), Normalized Mutual Information (NMI), and Fowlkes-Mallows Index (FMI) are tools to measure how well clustering algorithms perform. ARI considers both how clusters are similar and accounts for random chance. NMI also looks at similarities, but it's better for situations where clusters have different sizes. FMI looks at how well clusters match each other, but it doesn't consider when clusters are correctly labeled as not belonging together. Each tool has its strengths and weaknesses. ARI works well when clusters are similar in size, NMI is good for when they're not, and FMI is helpful for precision and recall. The best choice depends on the specific clustering task you're dealing with."
   ]
  },
  {
   "cell_type": "code",
   "execution_count": 31,
   "id": "ff6aa248-1ed5-4adb-8504-c7f3a078c769",
   "metadata": {},
   "outputs": [
    {
     "name": "stdout",
     "output_type": "stream",
     "text": [
      "                           Dataset       ARI       NMI       FMI\n",
      "0        heart_disease_df (Kmodes)  0.269859  0.207009  0.525872\n",
      "1  heart_disease_df (Hierarchical)  0.009543  0.010944  0.353434\n",
      "2        breast_cancer_df (Kmodes)  0.351220  0.439297  0.651028\n",
      "3  breast_cancer_df (Hierarchical)  0.781678  0.688725  0.893555\n"
     ]
    }
   ],
   "source": [
    "results_categorical = []\n",
    "\n",
    "for dataset_name in datasets:\n",
    "    dataset = globals()[dataset_name]\n",
    "    with warnings.catch_warnings():\n",
    "        warnings.filterwarnings(\"ignore\", category=UserWarning)\n",
    "        try:\n",
    "            X_cat = dataset.iloc[:, :-1]\n",
    "            true_labels_cat = dataset.iloc[:, -1]\n",
    "\n",
    "            encoder = LabelEncoder()\n",
    "            X_cat_encoded = X_cat.apply(encoder.fit_transform)\n",
    "\n",
    "            km = KModes(n_clusters=k, init='Huang', n_init=5, verbose=0)\n",
    "            km_labels = km.fit_predict(X_cat_encoded)\n",
    "            ARI_km = adjusted_rand_score(true_labels_cat, km_labels)\n",
    "            NMI_km = normalized_mutual_info_score(true_labels_cat, km_labels)\n",
    "            FMI_km = fowlkes_mallows_score(true_labels_cat, km_labels)\n",
    "\n",
    "            ac = AgglomerativeClustering(n_clusters=k, linkage='ward')\n",
    "            ac_labels = ac.fit_predict(X_cat_encoded)\n",
    "            ARI_ac = adjusted_rand_score(true_labels_cat, ac_labels)\n",
    "            NMI_ac = normalized_mutual_info_score(true_labels_cat, ac_labels)\n",
    "            FMI_ac = fowlkes_mallows_score(true_labels_cat, ac_labels)\n",
    "            \n",
    "            results_categorical.append([dataset_name + \" (Kmodes)\", ARI_km, NMI_km, FMI_km])\n",
    "            results_categorical.append([dataset_name + \" (Hierarchical)\", ARI_ac, NMI_ac, FMI_ac])\n",
    "        except UserWarning as e:\n",
    "            print(f\"Warning: {e}\")\n",
    "\n",
    "results_categorical_df = pd.DataFrame(results_categorical, columns=[\"Dataset\", \"ARI\", \"NMI\", \"FMI\"])\n",
    "print(results_categorical_df)"
   ]
  },
  {
   "cell_type": "markdown",
   "id": "fda3f983-913b-43c2-a1ca-e1c730d885df",
   "metadata": {},
   "source": [
    "##### 7. Write your report using Latex. Your report should be focused on the \"why's and the what's\" of each performance metrices (i.e. why is FMI always greater than ARI and NMI? What's the problem with ARI and NMI?).\n",
    "\r",
    "    \n",
    "In the comparison of clustering performance using different algorithms (Kmodes and Hierarchical) on heart disease and breast cancer datasets, it's evident that the Fowlkes-Mallows Index (FMI) consistently yields higher values compared to the Adjusted Rand Index (ARI) and Normalized Mutual Information (NMI). This suggests that FMI provides a more optimistic evaluation of clustering quality. However, the ARI and NMI scores are relatively low across all cases, indicating that the clusters produced by the algorithms may not align well with the ground truth labels. This discrepancy highlights the limitations of ARI and NMI, which can be influenced by chance and may not adequately capture the nuances of cluster structures. Therefore, while FMI offers a more favorable assessment, caution is warranted in interpreting clustering results solely based on ARI and NMI due to their potential shortcomings in certain scenarios."
   ]
  },
  {
   "cell_type": "code",
   "execution_count": null,
   "id": "8c34165c-0a7f-4d14-a975-6ec022dbdd38",
   "metadata": {},
   "outputs": [],
   "source": []
  }
 ],
 "metadata": {
  "kernelspec": {
   "display_name": "Python 3 (ipykernel)",
   "language": "python",
   "name": "python3"
  },
  "language_info": {
   "codemirror_mode": {
    "name": "ipython",
    "version": 3
   },
   "file_extension": ".py",
   "mimetype": "text/x-python",
   "name": "python",
   "nbconvert_exporter": "python",
   "pygments_lexer": "ipython3",
   "version": "3.11.4"
  }
 },
 "nbformat": 4,
 "nbformat_minor": 5
}
